{
 "cells": [
  {
   "cell_type": "code",
   "execution_count": 2,
   "metadata": {},
   "outputs": [
    {
     "name": "stdout",
     "output_type": "stream",
     "text": [
      "Você é uma criança\n"
     ]
    }
   ],
   "source": [
    "idade = 5\n",
    "if idade < 18:\n",
    "    print('Você é uma criança')\n",
    "else:\n",
    "    print('Você é um adulto')"
   ]
  },
  {
   "cell_type": "code",
   "execution_count": null,
   "metadata": {},
   "outputs": [],
   "source": []
  }
 ],
 "metadata": {
  "kernelspec": {
   "display_name": "Python 3.9.12 ('base')",
   "language": "python",
   "name": "python3"
  },
  "language_info": {
   "codemirror_mode": {
    "name": "ipython",
    "version": 3
   },
   "file_extension": ".py",
   "mimetype": "text/x-python",
   "name": "python",
   "nbconvert_exporter": "python",
   "pygments_lexer": "ipython3",
   "version": "3.9.12"
  },
  "orig_nbformat": 4,
  "vscode": {
   "interpreter": {
    "hash": "6267c5b4f03592b4e4f7065c682a79a28526e01fd4e2ad7206ab2a37565f592c"
   }
  }
 },
 "nbformat": 4,
 "nbformat_minor": 2
}
